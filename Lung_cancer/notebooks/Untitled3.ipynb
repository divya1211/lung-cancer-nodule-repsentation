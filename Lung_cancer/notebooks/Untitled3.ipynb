{
 "cells": [
  {
   "cell_type": "code",
   "execution_count": 123,
   "metadata": {},
   "outputs": [],
   "source": [
    "import csv\n",
    "import sys\n",
    "\n",
    "#input number you want to search\n",
    "# number = raw_input('0078')\n",
    "\n",
    "#read csv, and split on \",\" the line\n",
    "csv_file = csv.reader(open('characteristics.csv', \"r\"), delimiter=\",\")\n",
    "patient_id = '0078'\n",
    "nodule_id = ' 16309'\n",
    "my_list = []\n",
    "\n",
    "def find(patient_id,nodule_id):\n",
    "   \n",
    "#     print('1')\n",
    "    #loop through csv list\n",
    "    for row in csv_file:\n",
    "    #if current rows 2nd value is equal to input, print that row\n",
    "#      print('2')\n",
    "     if patient_id == row[0]:\n",
    "        my_list.append(row)\n",
    "#         print('3')\n",
    "#        \n",
    "#         print(my_list[1][2])\n",
    "    for i in range(0,(len(my_list)-1)):\n",
    "#         print('4')\n",
    "#         print(i)\n",
    "#         print(nodule_id)\n",
    "#         print(my_list[i][2])\n",
    "#         result = isinstance(my_list[i][2], str)\n",
    "#         print(result)\n",
    "        if my_list[i][2] == nodule_id:\n",
    "            \n",
    "            print('match')\n",
    "            return my_list[i][2]\n",
    "\n",
    "# print(len(my_list))"
   ]
  },
  {
   "cell_type": "code",
   "execution_count": 124,
   "metadata": {},
   "outputs": [
    {
     "name": "stdout",
     "output_type": "stream",
     "text": [
      "match\n"
     ]
    },
    {
     "data": {
      "text/plain": [
       "' 16309'"
      ]
     },
     "execution_count": 124,
     "metadata": {},
     "output_type": "execute_result"
    }
   ],
   "source": [
    "find(patient_id,nodule_id)\n"
   ]
  },
  {
   "cell_type": "code",
   "execution_count": 125,
   "metadata": {},
   "outputs": [
    {
     "name": "stdout",
     "output_type": "stream",
     "text": [
      "[['0078', ' anonymous', ' 3', ' 5', ' 1', ' 6', ' 3', ' 4', ' 1', ' 1', ' 5', ' 3'], ['0078', ' anonymous', ' 4', ' 4', ' 1', ' 6', ' 4', ' 4', ' 1', ' 2', ' 5', ' 3'], ['0078', ' anonymous', ' 6', ' 5', ' 1', ' 4', ' 3', ' 5', ' 2', ' 3', ' 5', ' 4'], ['0078', ' anonymous', ' 12321', ' 5', ' 1', ' 6', ' 4', ' 2', ' 4', ' 1', ' 5', ' 5'], ['0078', ' anonymous', ' 12325', ' 4', ' 1', ' 6', ' 4', ' 2', ' 3', ' 1', ' 4', ' 4'], ['0078', ' anonymous', ' 12329', ' 4', ' 1', ' 6', ' 4', ' 2', ' 2', ' 1', ' 5', ' 4'], ['0078', ' anonymous', ' 16309', ' 5', ' 1', ' 4', ' 4', ' 4', ' 4', ' 4', ' 5', ' 5'], ['0078', ' anonymous', ' 16332', ' 4', ' 1', ' 5', ' 5', ' 5', ' 1', ' 1', ' 5', ' 1'], ['0078', ' anonymous', ' 16313', ' 5', ' 1', ' 6', ' 5', ' 2', ' 4', ' 3', ' 5', ' 5'], ['0078', ' anonymous', ' 16317', ' 5', ' 1', ' 6', ' 4', ' 4', ' 4', ' 4', ' 5', ' 5'], ['0078', ' anonymous', ' 2046', ' 5', ' 1', ' 6', ' 4', ' 2', ' 3', ' 3', ' 4', ' 3'], ['0078', ' anonymous', ' 2050', ' 5', ' 1', ' 6', ' 4', ' 3', ' 4', ' 4', ' 4', ' 3'], ['0078', ' anonymous', ' 2054', ' 5', ' 1', ' 6', ' 4', ' 3', ' 2', ' 2', ' 4', ' 3']]\n"
     ]
    }
   ],
   "source": [
    "print(my_list)"
   ]
  },
  {
   "cell_type": "code",
   "execution_count": null,
   "metadata": {},
   "outputs": [],
   "source": []
  }
 ],
 "metadata": {
  "kernelspec": {
   "display_name": "Python 3",
   "language": "python",
   "name": "python3"
  },
  "language_info": {
   "codemirror_mode": {
    "name": "ipython",
    "version": 3
   },
   "file_extension": ".py",
   "mimetype": "text/x-python",
   "name": "python",
   "nbconvert_exporter": "python",
   "pygments_lexer": "ipython3",
   "version": "3.7.0"
  }
 },
 "nbformat": 4,
 "nbformat_minor": 2
}
