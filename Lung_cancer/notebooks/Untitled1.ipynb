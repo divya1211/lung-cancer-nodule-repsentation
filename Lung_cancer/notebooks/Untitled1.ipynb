{
 "cells": [
  {
   "cell_type": "code",
   "execution_count": 2,
   "metadata": {},
   "outputs": [],
   "source": [
    "import os, random\n",
    "from enum import Enum\n",
    "\n",
    "from PIL import Image\n",
    "import numpy as np\n",
    "import torch\n",
    "from torchvision import datasets, transforms\n",
    "from torch.utils.data import Dataset as D\n",
    "from torch.utils.data.sampler import SubsetRandomSampler"
   ]
  },
  {
   "cell_type": "code",
   "execution_count": 4,
   "metadata": {},
   "outputs": [],
   "source": [
    "def rotation(img):\n",
    "    i, j = random.randint(0, 2), random.randint(0, 2)\n",
    "    return img.transpose(i, j)\n"
   ]
  },
  {
   "cell_type": "code",
   "execution_count": 6,
   "metadata": {},
   "outputs": [],
   "source": [
    "class TensorDataset(D):\n",
    "    def __init__(self, newtensor, malignancy, transforms=None):\n",
    "        self.data = newtensor\n",
    "        self.data1 = malignancy\n",
    "        self.transforms = transforms\n",
    "    def __len__(self):\n",
    "        return self.data.shape[0]    \n",
    "    def __getitem__(self, index):\n",
    "        img1 = self.data[index]\n",
    "        img2 = self.data[index]\n",
    "        if self.transforms:\n",
    "            img1 = self.transforms(img1)\n",
    "            img2 = self.transforms(img2)\n",
    "\n",
    "        img1 = torch.cat([img1.mean(dim=-1).unsqueeze(0), img1.mean(dim=-2).unsqueeze(0), img1.mean(dim=-3).unsqueeze(0)], dim=0)\n",
    "        img2 = torch.cat([img2.mean(dim=-1).unsqueeze(0), img2.mean(dim=-2).unsqueeze(0), img2.mean(dim=-3).unsqueeze(0)], dim=0)\n",
    "        return (img1, img2), self.data1[index]"
   ]
  },
  {
   "cell_type": "code",
   "execution_count": 20,
   "metadata": {},
   "outputs": [],
   "source": [
    "nodules = torch.load('nodules.pt')\n",
    "malignancies = torch.load('malignancies.pt') - 1\n",
    "\n",
    "batch_size = 10\n",
    "num_classes = 5\n",
    "train_transform = rotation\n",
    "test_transform = rotation\n",
    "validation_split = .2\n",
    "shuffle_dataset = True\n",
    "random_seed= 42\n",
    "\n",
    "dataset = TensorDataset(nodules, malignancies, transforms=rotation)\n",
    "dataset_size = len(dataset)\n",
    "indices = list(range(dataset_size))\n",
    "split = int(np.floor(validation_split * dataset_size))\n",
    "if shuffle_dataset :\n",
    "    np.random.seed(random_seed)\n",
    "    np.random.shuffle(indices)\n",
    "train_indices, val_indices = indices[split:], indices[:split]\n",
    "\n",
    "\n",
    "train_sampler = SubsetRandomSampler(train_indices)\n",
    "valid_sampler = SubsetRandomSampler(val_indices)\n",
    "\n",
    "train_loader = torch.utils.data.DataLoader(dataset, batch_size=batch_size, \n",
    "                                           sampler=train_sampler, pin_memory=True, \n",
    "                                           drop_last=True)\n",
    "test_loader = torch.utils.data.DataLoader(dataset, batch_size=batch_size,\n",
    "                                                sampler=valid_sampler, pin_memory=True, \n",
    "                                           drop_last=True)\n"
   ]
  },
  {
   "cell_type": "code",
   "execution_count": 22,
   "metadata": {},
   "outputs": [
    {
     "data": {
      "text/plain": [
       "10"
      ]
     },
     "execution_count": 22,
     "metadata": {},
     "output_type": "execute_result"
    }
   ],
   "source": [
    "len(test_loader)"
   ]
  }
 ],
 "metadata": {
  "kernelspec": {
   "display_name": "Python 3",
   "language": "python",
   "name": "python3"
  },
  "language_info": {
   "codemirror_mode": {
    "name": "ipython",
    "version": 3
   },
   "file_extension": ".py",
   "mimetype": "text/x-python",
   "name": "python",
   "nbconvert_exporter": "python",
   "pygments_lexer": "ipython3",
   "version": "3.7.0"
  }
 },
 "nbformat": 4,
 "nbformat_minor": 2
}
