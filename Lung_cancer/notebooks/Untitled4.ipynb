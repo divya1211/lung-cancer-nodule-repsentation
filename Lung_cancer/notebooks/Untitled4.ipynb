{
 "cells": [
  {
   "cell_type": "code",
   "execution_count": 2,
   "metadata": {},
   "outputs": [],
   "source": [
    "import numpy as np\n",
    "import os\n",
    "import datasets as mt_datasets\n",
    "import transforms as mt_transforms\n",
    "\n",
    "import torch\n",
    "from torchvision import transforms\n",
    "from torch.utils.data import DataLoader\n",
    "from torch import autograd, optim\n",
    "import torch.backends.cudnn as cudnn\n",
    "import torch.nn as nn\n",
    "\n",
    "# import torchvision.utils as vutils\n",
    "# cudnn.benchmark = True\n",
    "import matplotlib.pyplot as plt\n",
    "%matplotlib inline\n",
    "\n",
    "from collections import defaultdict\n",
    "from pathlib import Path\n",
    "import imageio\n",
    "\n",
    "from torchsummary import summary\n",
    "\n",
    "%load_ext autoreload\n",
    "%autoreload 2"
   ]
  },
  {
   "cell_type": "code",
   "execution_count": 3,
   "metadata": {},
   "outputs": [],
   "source": [
    "ROOT_DIR = \"/scratch/dj1311/Lung_cancer/LIDC_conversion5/\""
   ]
  },
  {
   "cell_type": "code",
   "execution_count": 4,
   "metadata": {},
   "outputs": [],
   "source": [
    "img_list = []\n",
    "label_list = []\n",
    "\n",
    "for idx, (dirpath, dirnames, filenames) in enumerate(os.walk(ROOT_DIR)):\n",
    "    if not dirnames:\n",
    "        # for 1 patient, all files\n",
    "        nii = []\n",
    "        flag = False\n",
    "        for f in filenames:\n",
    "            if f.startswith(\"LIDC-IDRI\") and f.endswith(\".nii.gz\"):\n",
    "                img = f\n",
    "                nii.append(f)\n",
    "                    \n",
    "            if flag == False and f.startswith(\"Nodule 1 - Annotation\") and f.endswith(\".nii.gz\"):\n",
    "                gt = f\n",
    "                nii.append(f)\n",
    "                flag = True\n",
    "            \n",
    "        if len(nii) == 2:\n",
    "            img_list.append(os.path.join(dirpath, img))\n",
    "            label_list.append(os.path.join(dirpath, gt))"
   ]
  },
  {
   "cell_type": "code",
   "execution_count": 5,
   "metadata": {},
   "outputs": [
    {
     "name": "stdout",
     "output_type": "stream",
     "text": [
      "10\n"
     ]
    }
   ],
   "source": [
    "img_list, label_list = img_list[:10], label_list[:10]\n",
    "print(len(img_list))\n",
    "filename_pairs = list(zip(img_list, label_list))"
   ]
  },
  {
   "cell_type": "code",
   "execution_count": 6,
   "metadata": {},
   "outputs": [],
   "source": [
    "train_dataset = mt_datasets.MRI2DSegmentationDataset(filename_pairs, transform=mt_transforms.ToTensor())"
   ]
  },
  {
   "cell_type": "code",
   "execution_count": 7,
   "metadata": {},
   "outputs": [
    {
     "ename": "NameError",
     "evalue": "name 'patient' is not defined",
     "output_type": "error",
     "traceback": [
      "\u001b[0;31m---------------------------------------------------------------------------\u001b[0m",
      "\u001b[0;31mNameError\u001b[0m                                 Traceback (most recent call last)",
      "\u001b[0;32m<ipython-input-7-8238ddfd6360>\u001b[0m in \u001b[0;36m<module>\u001b[0;34m()\u001b[0m\n\u001b[0;32m----> 1\u001b[0;31m \u001b[0mpatient\u001b[0m\u001b[0;34m.\u001b[0m\u001b[0mkeys\u001b[0m\u001b[0;34m(\u001b[0m\u001b[0;34m)\u001b[0m\u001b[0;34m\u001b[0m\u001b[0m\n\u001b[0m",
      "\u001b[0;31mNameError\u001b[0m: name 'patient' is not defined"
     ]
    }
   ],
   "source": [
    "patient.keys()\n"
   ]
  },
  {
   "cell_type": "code",
   "execution_count": 8,
   "metadata": {},
   "outputs": [
    {
     "ename": "NameError",
     "evalue": "name 'patient' is not defined",
     "output_type": "error",
     "traceback": [
      "\u001b[0;31m---------------------------------------------------------------------------\u001b[0m",
      "\u001b[0;31mNameError\u001b[0m                                 Traceback (most recent call last)",
      "\u001b[0;32m<ipython-input-8-84bc73a21eb3>\u001b[0m in \u001b[0;36m<module>\u001b[0;34m()\u001b[0m\n\u001b[0;32m----> 1\u001b[0;31m \u001b[0mprint\u001b[0m\u001b[0;34m(\u001b[0m\u001b[0mpatient\u001b[0m\u001b[0;34m[\u001b[0m\u001b[0;34m'filename'\u001b[0m\u001b[0;34m]\u001b[0m\u001b[0;34m)\u001b[0m\u001b[0;34m\u001b[0m\u001b[0m\n\u001b[0m",
      "\u001b[0;31mNameError\u001b[0m: name 'patient' is not defined"
     ]
    }
   ],
   "source": [
    "print(patient['filename'])"
   ]
  },
  {
   "cell_type": "code",
   "execution_count": 26,
   "metadata": {},
   "outputs": [
    {
     "name": "stdout",
     "output_type": "stream",
     "text": [
      "/scratch/dj1311/Lung_cancer/LIDC_conversion5/LIDC-IDRI-0289/1.3.6.1.4.1.14519.5.2.1.6279.6001.317889411189319524523491450294/1.3.6.1.4.1.14519.5.2.1.6279.6001.219618492426142913407827034169/Nodule 1 - Annotation Nodule 001.nrrd.nii.gz\n"
     ]
    }
   ],
   "source": [
    "print(patient['gt_filename'])"
   ]
  },
  {
   "cell_type": "code",
   "execution_count": null,
   "metadata": {},
   "outputs": [],
   "source": [
    "t = patient['gt_filename'].split(\"nrrd.nii.gz\")[0][:-3]\n",
    "print(t)"
   ]
  },
  {
   "cell_type": "code",
   "execution_count": null,
   "metadata": {},
   "outputs": [],
   "source": []
  },
  {
   "cell_type": "code",
   "execution_count": 31,
   "metadata": {},
   "outputs": [
    {
     "name": "stdout",
     "output_type": "stream",
     "text": [
      "0289\n"
     ]
    }
   ],
   "source": [
    "\n",
    "s = patient['filename'].split(\"LIDC-IDRI-\")[1][0:4]\n",
    "print(s)"
   ]
  },
  {
   "cell_type": "code",
   "execution_count": 32,
   "metadata": {},
   "outputs": [
    {
     "ename": "AttributeError",
     "evalue": "'dict' object has no attribute 'id'",
     "output_type": "error",
     "traceback": [
      "\u001b[0;31m---------------------------------------------------------------------------\u001b[0m",
      "\u001b[0;31mAttributeError\u001b[0m                            Traceback (most recent call last)",
      "\u001b[0;32m<ipython-input-32-274f89aa18f9>\u001b[0m in \u001b[0;36m<module>\u001b[0;34m()\u001b[0m\n\u001b[1;32m     42\u001b[0m \u001b[0;34m\u001b[0m\u001b[0m\n\u001b[1;32m     43\u001b[0m     \u001b[0mnodule\u001b[0m \u001b[0;34m=\u001b[0m \u001b[0;34m(\u001b[0m\u001b[0mgt\u001b[0m \u001b[0;34m*\u001b[0m \u001b[0minp\u001b[0m\u001b[0;34m)\u001b[0m\u001b[0;34m[\u001b[0m\u001b[0ms_x\u001b[0m\u001b[0;34m:\u001b[0m\u001b[0me_x\u001b[0m\u001b[0;34m,\u001b[0m \u001b[0ms_y\u001b[0m\u001b[0;34m:\u001b[0m\u001b[0me_y\u001b[0m\u001b[0;34m,\u001b[0m \u001b[0ms_z\u001b[0m\u001b[0;34m:\u001b[0m\u001b[0me_z\u001b[0m\u001b[0;34m]\u001b[0m\u001b[0;34m\u001b[0m\u001b[0m\n\u001b[0;32m---> 44\u001b[0;31m     \u001b[0mprint\u001b[0m\u001b[0;34m(\u001b[0m\u001b[0mi\u001b[0m\u001b[0;34m,\u001b[0m \u001b[0mpatient\u001b[0m\u001b[0;34m.\u001b[0m\u001b[0mid\u001b[0m\u001b[0;34m,\u001b[0m \u001b[0mnodule\u001b[0m\u001b[0;34m.\u001b[0m\u001b[0mshape\u001b[0m\u001b[0;34m)\u001b[0m\u001b[0;34m\u001b[0m\u001b[0m\n\u001b[0m\u001b[1;32m     45\u001b[0m     \u001b[0mnodules\u001b[0m\u001b[0;34m.\u001b[0m\u001b[0mappend\u001b[0m\u001b[0;34m(\u001b[0m\u001b[0mnodule\u001b[0m\u001b[0;34m.\u001b[0m\u001b[0munsqueeze\u001b[0m\u001b[0;34m(\u001b[0m\u001b[0;36m0\u001b[0m\u001b[0;34m)\u001b[0m\u001b[0;34m)\u001b[0m\u001b[0;34m\u001b[0m\u001b[0m\n",
      "\u001b[0;31mAttributeError\u001b[0m: 'dict' object has no attribute 'id'"
     ]
    }
   ],
   "source": [
    "C = 25\n",
    "nodules = []\n",
    "for i, patient in enumerate(train_dataset):\n",
    "    gt = patient['gt']\n",
    "    inp = patient['input']\n",
    "\n",
    "    depth = inp.shape[0]\n",
    "\n",
    "    idx = gt.nonzero()\n",
    "    min_, max_ =  idx.min(dim=0)[0], idx.max(dim=0)[0]\n",
    "    start, end = (min_ +  max_)/2 - C, (min_ +  max_)/2 + C\n",
    "    \n",
    "    s_x, s_y, s_z = start.tolist()\n",
    "    e_x, e_y, e_z = end.tolist()\n",
    "\n",
    "    if s_x < 0:\n",
    "        e_x += abs(s_x)\n",
    "        s_x = 0\n",
    "\n",
    "    if e_x > depth:\n",
    "        s_x -= (e_x - depth)\n",
    "        e_x = depth\n",
    "\n",
    "\n",
    "    if s_y < 0:\n",
    "        e_y += abs(s_y)\n",
    "        s_y = 0\n",
    "\n",
    "    if e_y > 512:\n",
    "        s_y -= (e_y - depth)\n",
    "        e_y = depth\n",
    "\n",
    "\n",
    "    if s_z < 0:\n",
    "        e_z += abs(s_z)\n",
    "        s_z = 0\n",
    "\n",
    "    if e_z > 512:\n",
    "        s_z -= (e_z - depth)\n",
    "        e_z = depth\n",
    "\n",
    "\n",
    "    nodule = (gt * inp)[s_x:e_x, s_y:e_y, s_z:e_z]\n",
    "    print(i, patient.id, nodule.shape)\n",
    "    nodules.append(nodule.unsqueeze(0))\n"
   ]
  },
  {
   "cell_type": "code",
   "execution_count": null,
   "metadata": {},
   "outputs": [],
   "source": []
  },
  {
   "cell_type": "code",
   "execution_count": null,
   "metadata": {},
   "outputs": [],
   "source": []
  }
 ],
 "metadata": {
  "kernelspec": {
   "display_name": "Python 3",
   "language": "python",
   "name": "python3"
  }
 },
 "nbformat": 4,
 "nbformat_minor": 2
}
